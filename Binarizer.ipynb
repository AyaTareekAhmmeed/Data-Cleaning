{
 "cells": [
  {
   "cell_type": "code",
   "execution_count": 1,
   "id": "10e63672",
   "metadata": {},
   "outputs": [],
   "source": [
    "from sklearn.preprocessing import Binarizer"
   ]
  },
  {
   "cell_type": "code",
   "execution_count": 2,
   "id": "dd048620",
   "metadata": {},
   "outputs": [],
   "source": [
    "X = [[ 1., -1., -2.],[ 2., 0., -1.], [ 0., 1., -1.]]"
   ]
  },
  {
   "cell_type": "code",
   "execution_count": 3,
   "id": "559fed8b",
   "metadata": {},
   "outputs": [
    {
     "data": {
      "text/plain": [
       "array([[0., 0., 0.],\n",
       "       [1., 0., 0.],\n",
       "       [0., 0., 0.]])"
      ]
     },
     "execution_count": 3,
     "metadata": {},
     "output_type": "execute_result"
    }
   ],
   "source": [
    "#transfer datainto 0,1\n",
    "transformer = Binarizer(threshold=1.5 ) \n",
    "transformer.fit(X)\n",
    "\n",
    "transformer\n",
    "\n",
    "transformer.transform(X)"
   ]
  }
 ],
 "metadata": {
  "kernelspec": {
   "display_name": "Python 3 (ipykernel)",
   "language": "python",
   "name": "python3"
  },
  "language_info": {
   "codemirror_mode": {
    "name": "ipython",
    "version": 3
   },
   "file_extension": ".py",
   "mimetype": "text/x-python",
   "name": "python",
   "nbconvert_exporter": "python",
   "pygments_lexer": "ipython3",
   "version": "3.9.16"
  }
 },
 "nbformat": 4,
 "nbformat_minor": 5
}
